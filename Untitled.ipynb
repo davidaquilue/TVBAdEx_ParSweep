{
 "cells": [
  {
   "cell_type": "markdown",
   "id": "d5573ca9",
   "metadata": {},
   "source": [
    "# Checking for the consistency of metastable Up and Down states\n",
    "\n",
    "In this notebook we will simulate and plot three simple and short studies to try to empirically demonstrate/show that the Up and Down states continue happening after several iterations, thus, not depending on the initialization nor on transients.\n"
   ]
  },
  {
   "cell_type": "code",
   "execution_count": 1,
   "id": "9d50d231",
   "metadata": {},
   "outputs": [
    {
     "name": "stderr",
     "output_type": "stream",
     "text": [
      "c:\\Users\\daqui\\Desktop\\David\\CNN\\Internship\\Code\\TVBAdEx_ParSweep\\.conda\\lib\\site-packages\\tvb\\datatypes\\surfaces.py:64: UserWarning: Geodesic distance module is unavailable; some functionality for surfaces will be unavailable.\n",
      "  warnings.warn(msg)\n"
     ]
    }
   ],
   "source": [
    "import numpy as np\n",
    "import matplotlib.pyplot as plt\n",
    "\n",
    "import multiprocessing\n",
    "\n",
    "\n",
    "from JUSUFlike.Project.Codes.processing_results import *\n",
    "import tvb_model_reference.src.nuu_tools_simulation_human as tools\n",
    "from tvb_model_reference.simulation_file.parameter.parameter_M_Berlin import Parameter\n"
   ]
  },
  {
   "cell_type": "code",
   "execution_count": 2,
   "id": "dc452c09",
   "metadata": {},
   "outputs": [],
   "source": [
    "def run_tvb(run_params):\n",
    "    parameters = Parameter()\n",
    "    S, b, E_L_i, E_L_e, T = run_params['hyperparams']\n",
    "    cut_transient, run_sim = run_params['simulation_params']\n",
    "    folder_root = run_params['folder_root']\n",
    "\n",
    "    parameters.parameter_coupling['parameter']['a'] = S\n",
    "    parameters.parameter_model['b_e'] = b\n",
    "    parameters.parameter_model['E_L_i'] = E_L_i\n",
    "    parameters.parameter_model['E_L_e'] = E_L_e\n",
    "    parameters.parameter_model['T'] = T\n",
    "    print('Parameter models defined')\n",
    "\n",
    "    label_sim = f'be-{b}_S-{S}_ELE-{E_L_e}_ELI-{E_L_i}_T-{T}/'\n",
    "\n",
    "    file_name = folder_root + label_sim\n",
    "    parameters.parameter_simulation['path_result'] = file_name\n",
    "\n",
    "    # Set up simulator with new parameters\n",
    "    simulator = tools.init(parameters.parameter_simulation, parameters.parameter_model,\n",
    "                            parameters.parameter_connection_between_region,\n",
    "                            parameters.parameter_coupling,\n",
    "                            parameters.parameter_integrator,\n",
    "                            parameters.parameter_monitor)\n",
    "\n",
    "    print('Initiated Simulator')\n",
    "\n",
    "    # Run simulations\n",
    "    print('Start running')\n",
    "    tools.run_simulation(simulator, run_sim, parameters.parameter_simulation, parameters.parameter_monitor)\n",
    "\n",
    "    "
   ]
  },
  {
   "cell_type": "code",
   "execution_count": 3,
   "id": "ec97182c",
   "metadata": {},
   "outputs": [],
   "source": [
    "\n",
    "# Initialize the parameters object\n",
    "parameters = Parameter()\n",
    "\n",
    "# Select a directory to store the simulations\n",
    "tests_root = r'C:\\Users\\daqui\\Desktop\\temp_data\\ParSweep_Paper\\TestingUpDownStates'"
   ]
  },
  {
   "cell_type": "markdown",
   "id": "d18c8768",
   "metadata": {},
   "source": [
    "## First Test of getting rid of initialization artifacts\n",
    "\n",
    "The first test will consist in running one simulation in the Up and Down regime for a long period of time. Around 100s.\n"
   ]
  },
  {
   "cell_type": "code",
   "execution_count": 4,
   "id": "75baa2cc",
   "metadata": {},
   "outputs": [],
   "source": [
    "\n",
    "cut_transient = 95000.0\n",
    "run_sim = 100000.0\n",
    "\n",
    "S = 0.5\n",
    "b_e = 120.0\n",
    "E_L_e = -60.0\n",
    "E_L_i = -80.0\n",
    "T = 40.0\n",
    "\n",
    "# Type here the values of the hyperparameters to be run.\n",
    "# The order is: S, b, E_L_i, E_L_e, T\n",
    "hyperparams1 = (0.33, 120.0, -64.0, -64.0, 20.0)\n",
    "hyperparams2 = (0.33, 0.0, -76.0, -76.0, 20.0)\n",
    "\n",
    "list_hyperparams = [hyperparams1, hyperparams2]\n",
    "folder_root = tests_root + '\\\\Long\\\\'\n",
    "\n",
    "list_runparams = [{'hyperparams': set_hyperparams, \n",
    "                    'simulation_params': (cut_transient, run_sim),\n",
    "                    'folder_root': folder_root} for set_hyperparams in list_hyperparams]\n",
    "\n",
    "sim = True\n",
    "\n",
    "if sim:\n",
    "    num_processes = multiprocessing.cpu_count()  # Use the number of available CPU cores\n",
    "    with multiprocessing.Pool(processes=num_processes) as pool:\n",
    "        # Use pool.map to parallelize the function across the parameter sets\n",
    "        results = pool.map(run_tvb, list_runparams)\n"
   ]
  },
  {
   "cell_type": "code",
   "execution_count": null,
   "id": "c4ac8c4a",
   "metadata": {},
   "outputs": [],
   "source": []
  }
 ],
 "metadata": {
  "kernelspec": {
   "display_name": "Python 3 (ipykernel)",
   "language": "python",
   "name": "python3"
  },
  "language_info": {
   "codemirror_mode": {
    "name": "ipython",
    "version": 3
   },
   "file_extension": ".py",
   "mimetype": "text/x-python",
   "name": "python",
   "nbconvert_exporter": "python",
   "pygments_lexer": "ipython3",
   "version": "3.8.17"
  }
 },
 "nbformat": 4,
 "nbformat_minor": 5
}

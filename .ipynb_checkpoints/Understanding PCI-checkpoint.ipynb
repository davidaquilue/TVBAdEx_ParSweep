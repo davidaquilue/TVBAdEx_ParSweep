{
 "cells": [
  {
   "cell_type": "markdown",
   "id": "bf819095",
   "metadata": {},
   "source": [
    "# Objective: Understanding PCI and learning how to compute. Ideally, be able to optimize some of the functions so that it runs faster."
   ]
  },
  {
   "cell_type": "code",
   "execution_count": 33,
   "id": "4249076f",
   "metadata": {},
   "outputs": [],
   "source": [
    "import numpy as np\n",
    "import matplotlib.pyplot as plt\n",
    "import tvb_model_reference.src.nuu_tools_simulation_human as tools\n",
    "from numba import njit\n",
    "import analysis_vestigial.Lempel_Ziv as lz\n",
    "import pci_v2"
   ]
  },
  {
   "cell_type": "code",
   "execution_count": 2,
   "id": "4cb852f2",
   "metadata": {},
   "outputs": [],
   "source": [
    "%load_ext line_profiler"
   ]
  },
  {
   "cell_type": "code",
   "execution_count": 3,
   "id": "3dfe09ac",
   "metadata": {},
   "outputs": [],
   "source": [
    "### Original binarise signals from showcase 3 code.\n",
    "def binarise_signals(signal_m, t_stim, nshuffles = 10, \n",
    "                     percentile = 100):\n",
    "\n",
    "    #%%\n",
    "    ntrials, nsources, nbins = signal_m.shape\n",
    "    \n",
    "    #%% centralise and normalise sources to baseline level\n",
    "    \n",
    "    means_prestim = np.mean(signal_m[:,:,:t_stim], axis = 2)\n",
    "    \n",
    "    # prestim mean to 0\n",
    "    signal_centre =\\\n",
    "        signal_m / means_prestim[:,:, np.newaxis] - 1\n",
    "    #t_stim should be in time bins!\n",
    "\n",
    "    std_prestim = np.std(signal_centre[:,:,:t_stim], axis = 2)\n",
    "    \n",
    "    # prestim std to 1\n",
    "    signal_centre_norm = signal_centre / std_prestim[:,:, np.newaxis] \n",
    "    \n",
    "#%% bootstrapping: shuffle prestim signal in time, intra-trial\n",
    "    signalcn_tuple = tuple(signal_centre_norm)# not affected by shuffling    \n",
    "    signal_prestim_shuffle = signal_centre_norm[:,:,:t_stim]\n",
    "    \n",
    "    \n",
    "    max_absval_surrogates = np.zeros(nshuffles)\n",
    "    \n",
    "    for i_shuffle in range(nshuffles):\n",
    "        for i_source in range(nsources):\n",
    "            for i_trial in range(ntrials):\n",
    "                signal_curr = signal_prestim_shuffle[i_trial, i_source]\n",
    "                np.random.shuffle(signal_curr)\n",
    "                signal_prestim_shuffle[i_trial, i_source] = signal_curr                 \n",
    "        #average over trials (removed from the i_trial loop)\n",
    "        shuffle_avg = np.mean(signal_prestim_shuffle, axis = 0)\n",
    "        max_absval_surrogates[i_shuffle] = np.max(np.abs(shuffle_avg))\n",
    "\n",
    "#%% estimate significance threshold\n",
    "    max_sorted = np.sort(max_absval_surrogates)\n",
    "    signalThresh = max_sorted[-int(nshuffles/percentile)] # correction?\n",
    "    \n",
    "#%% binarise \n",
    "    signalcn = np.array(signalcn_tuple)\n",
    "    signal_binary = signalcn > signalThresh\n",
    "    \n",
    "    return signal_binary"
   ]
  },
  {
   "cell_type": "markdown",
   "id": "b13e1a3d",
   "metadata": {},
   "source": [
    "# PCI analyses procedure used in the showcase 3 to obtain the PCI analyses in the paper. I will need to use simulations where stimulation has been applied."
   ]
  },
  {
   "cell_type": "code",
   "execution_count": 17,
   "id": "71e93a14",
   "metadata": {},
   "outputs": [],
   "source": [
    "# I will try to comment and understand the whole process. The end goal is to understand + time or profile\n",
    "# the ressources that these computations need.\n",
    "\n",
    "# Luckily enough, I have already computed many simulations with different stimulation lengths.\n",
    "# In order to be as close as possible to the simulations in the paper, let's only load the stimlen50 (0.1Hz stim)\n",
    "# In the parameter json we can see that the weight on region 5 is 0.0001 (kHz), thus 0.1Hz stim as in the paper.\n",
    "# 50ms duration as in the paper\n",
    "\n",
    "# I also happen to have 40 seeds already obtained, from seed20 to seed59. Cool\n",
    "\n",
    "# Only have applied stimulation to awake state, we were trying to simulate a cognitive task with stimulation\n",
    "\n",
    "stimlen = 50\n",
    "seeds = np.arange(20, 60)\n",
    "n_seeds = seeds.size\n",
    "n_trials = 5\n",
    "sim_names = np.arange(20, 20 + n_seeds, n_trials)\n",
    "run_sim = 7000.0\n",
    "cut_transient = 2000.0\n",
    "folder_root = '/media/master/Nuevo vol/Internship/Data/hpc_tvbadex/results_test_DMN/results_stims/'"
   ]
  },
  {
   "cell_type": "code",
   "execution_count": 27,
   "id": "3668cf9e",
   "metadata": {},
   "outputs": [
    {
     "name": "stdout",
     "output_type": "stream",
     "text": [
      "40\n",
      "[20 25 30 35 40 45 50 55]\n"
     ]
    }
   ],
   "source": [
    "stimtime_allseeds = [3550.004212010402, 2764.7717274216484, 3449.7207722809644, 2358.3752760153498, 2450.7193519103553, 3133.0728898887364, 3041.74430706995, 2886.330399979316, 2769.570988982661, 3171.527205074526, 2913.3979965524236, 3330.2349488881664, 3025.2509767989764, 3110.40204031662, 3203.497134253831, 3686.313979922783, 3447.8014756905777, 2878.4813087426533, 3526.7747172892787, 3453.2632055987297, 2632.821263857876, 3225.628816789063, 2564.555003779282, 2820.953358270235, 2656.1483386419227, 2955.482954057777, 2643.597629420399, 3463.310834158895, 3384.3571939151743, 2630.760219425116, 3543.205386620376, 2823.3027375818465, 3258.213525551398, 2858.447568054818, 3533.3228154210465, 3383.8775538139107, 2394.146047332062, 3342.897963701451, 2350.399993740475, 3476.2574214112237]\n",
    "print(len(stimtime_allseeds))\n",
    "sim_names = np.arange(20, 20 + n_seeds, n_trials)\n",
    "print(sim_names)"
   ]
  },
  {
   "cell_type": "code",
   "execution_count": 44,
   "id": "ab6d5976",
   "metadata": {},
   "outputs": [],
   "source": [
    "def function_to_run():\n",
    "    stimlen = 50\n",
    "    seeds = np.arange(20, 30)\n",
    "    n_seeds = seeds.size\n",
    "    n_trials = 2\n",
    "    sim_names = np.arange(20, 20 + n_seeds, n_trials)\n",
    "    run_sim = 7000.0\n",
    "    cut_transient = 2000.0\n",
    "    folder_root = '/media/master/Nuevo vol/Internship/Data/hpc_tvbadex/results_test_DMN/results_stims/'\n",
    "    stimtime_allseeds = [3550.004212010402, 2764.7717274216484, 3449.7207722809644, 2358.3752760153498, 2450.7193519103553, 3133.0728898887364, 3041.74430706995, 2886.330399979316, 2769.570988982661, 3171.527205074526, 2913.3979965524236, 3330.2349488881664, 3025.2509767989764, 3110.40204031662, 3203.497134253831, 3686.313979922783, 3447.8014756905777, 2878.4813087426533, 3526.7747172892787, 3453.2632055987297, 2632.821263857876, 3225.628816789063, 2564.555003779282, 2820.953358270235, 2656.1483386419227, 2955.482954057777, 2643.597629420399, 3463.310834158895, 3384.3571939151743, 2630.760219425116, 3543.205386620376, 2823.3027375818465, 3258.213525551398, 2858.447568054818, 3533.3228154210465, 3383.8775538139107, 2394.146047332062, 3342.897963701451, 2350.399993740475, 3476.2574214112237]\n",
    "\n",
    "    for sim_curr in sim_names:   \n",
    "                entropy_trials = []\n",
    "                LZ_trials = []\n",
    "                PCI_trials = []\n",
    "\n",
    "                sig_all_trials = []\n",
    "                \n",
    "                stim_time_bins = []\n",
    "                for i_trials in range(sim_curr, sim_curr + n_trials):\n",
    "                    times_l = []\n",
    "                    rateE_m = []\n",
    "\n",
    "                    folder_path =  folder_root + '_seed_' + str(i_trials) + '_stimlen_' + str(stimlen) + '/'\n",
    "                    \n",
    "                    nstep = int(run_sim/1000) # number of saved files\n",
    "\n",
    "                    for i_step in range(nstep):\n",
    "                        raw_curr = np.load(folder_path + 'step_'+str(i_step)+'.npy',\n",
    "                           encoding = 'latin1', allow_pickle=True)\n",
    "                        for i_time in range(len(raw_curr[0])): \n",
    "                            times_l.append(raw_curr[0][i_time][0])\n",
    "                            rateE_m.append(np.concatenate(raw_curr[0][i_time][1][0]))\n",
    "\n",
    "                    times_l = np.array(times_l) # in ms\n",
    "                    rateE_m = np.array(rateE_m) # matrix of size nbins*nregions\n",
    "\n",
    "                    t_total = times_l[-1] # last recorded time\n",
    "                    nbins, nregions = rateE_m.shape\n",
    "\n",
    "                    #%% choosing variable of interest\n",
    "                    var_of_interest = rateE_m\n",
    "                    varname = 'rateE'              \n",
    "\n",
    "                    #%% discard transient\n",
    "                    stim_time = np.load(folder_path + 'onset_time.npy')\n",
    "                    stim_time_bins.append(int((stim_time - cut_transient) / times_l[0]))\n",
    "                    \n",
    "                    nbins_transient = int(cut_transient/times_l[0]) # to discard in analysis   \n",
    "                    sig_region_all = var_of_interest[nbins_transient:,:] \n",
    "                    sig_region_all = np.transpose(sig_region_all) # now formatted as regions*times\n",
    "                    times = times_l[nbins_transient:]\n",
    "                    sig_all_trials.append(sig_region_all)  \n",
    "                    \n",
    "                \n",
    "                # So in sig_all_trials we have list where each element is a FR_exc.T\n",
    "                # What I don't see is that in each element there will be a different t stim bins\n",
    "                # and it seems to me that we only take the time bin of the last trial with this.\n",
    "                # So we cut all the elements in the trial with the same one.\n",
    "                # Has this been done for the paper? Might this be the reason of the high variance of the PCI?\n",
    "\n",
    "                #%% Calculate signal analysis time in bins; model dT * time (bin length = 0.1ms)\n",
    "                sig_all_trials = np.array(sig_all_trials)\n",
    "                print(times_l[0])\n",
    "                #%% Plot example signals from the stimulated region before and after stimulus (demonstrating what will be used in the analysis)\n",
    "                plt.plot(sig_all_trials[0,5,:], '0.5')\n",
    "                plt.plot(sig_all_trials[-1,5,:], '0.7')\n",
    "                #plt.plot(sig_all_trials[0,5,:], '0.5')\n",
    "                plt.axvline(stim_time_bins[-1], color = 'r')\n",
    "                plt.show()\n",
    "\n",
    "                #%% analyse only 300 ms before and after stimulus\n",
    "                t_analysis = 300 #ms\n",
    "                nbins_analysis =  int(t_analysis/times_l[0])\n",
    "\n",
    "                sig_cut_analysis = sig_all_trials[:,:,\n",
    "                                t_stim_bins - nbins_analysis:t_stim_bins + nbins_analysis]\n",
    "                            #%% binarisation\n",
    "                sig_all_binary = tools.binarise_signals(sig_cut_analysis, int(t_analysis/times_l[0]), \n",
    "                                                  nshuffles = 10, \n",
    "                                     percentile = 100)\n",
    "\n",
    "                #%% return entropy\n",
    "                for ijk in range(n_trials):\n",
    "\n",
    "                    binJ=sig_all_binary.astype(int)[ijk,:,t_analysis:] # CHECK each row is a time series !\n",
    "                    binJs=pci_v2.sort_binJ(binJ) # sort binJ as done in Casali et al. 2013\n",
    "                    source_entropy=pci_v2.source_entropy(binJs)\n",
    "                    print('Entropy', source_entropy)\n",
    "\n",
    "                    #%% return Lempel-Ziv\n",
    "                    Lempel_Ziv_lst=pci_v2.lz_complexity_2D(binJs)\n",
    "                    print('Lempel-Ziv', Lempel_Ziv_lst)\n",
    "\n",
    "                    #normalization factor \n",
    "                    norm=pci_v2.pci_norm_factor(binJs)\n",
    "\n",
    "\n",
    "                    #%% computing perturbational complexity index\n",
    "                    pci_lst = Lempel_Ziv_lst/norm\n",
    "                    print('PCI', pci_lst)\n",
    "\n",
    "                    all_entropy_lst=[source_entropy,pci_lst]\n",
    "\n",
    "                    entropy_trials.append(all_entropy_lst) \n",
    "                    LZ_trials.append(Lempel_Ziv_lst) \n",
    "                    PCI_trials.append(pci_lst) \n",
    "\n",
    "                #%% file saving\n",
    "                #amp_title= np.array(ampstim)\n",
    "\n",
    "                savefile = {}\n",
    "                savefile['entropy'] = np.array(entropy_trials)\n",
    "                savefile['Lempel-Ziv'] = np.array(LZ_trials)\n",
    "                savefile['PCI'] = np.array(PCI_trials)\n",
    "\n",
    "                #np.save(save_file_name, savefile)\n",
    "                #print(save_file_name)\n",
    "                print('Seed', sim_curr + ijk, ' done\\n')"
   ]
  },
  {
   "cell_type": "code",
   "execution_count": 45,
   "id": "8817595d",
   "metadata": {
    "scrolled": true
   },
   "outputs": [
    {
     "name": "stdout",
     "output_type": "stream",
     "text": [
      "0.1\n"
     ]
    },
    {
     "data": {
      "image/png": "[encoded data removed]",
      "text/plain": [
       "<Figure size 432x288 with 1 Axes>"
      ]
     },
     "metadata": {
      "needs_background": "light"
     },
     "output_type": "display_data"
    },
    {
     "ename": "NameError",
     "evalue": "name 't_stim_bins' is not defined",
     "output_type": "error",
     "traceback": [
      "\u001b[0;31m---------------------------------------------------------------------------\u001b[0m",
      "\u001b[0;31mNameError\u001b[0m                                 Traceback (most recent call last)",
      "\u001b[0;32m/tmp/ipykernel_7913/2869731545.py\u001b[0m in \u001b[0;36m<module>\u001b[0;34m\u001b[0m\n\u001b[0;32m----> 1\u001b[0;31m \u001b[0mget_ipython\u001b[0m\u001b[0;34m(\u001b[0m\u001b[0;34m)\u001b[0m\u001b[0;34m.\u001b[0m\u001b[0mrun_line_magic\u001b[0m\u001b[0;34m(\u001b[0m\u001b[0;34m'lprun'\u001b[0m\u001b[0;34m,\u001b[0m \u001b[0;34m'-f function_to_run function_to_run()'\u001b[0m\u001b[0;34m)\u001b[0m\u001b[0;34m\u001b[0m\u001b[0;34m\u001b[0m\u001b[0m\n\u001b[0m",
      "\u001b[0;32m~/anaconda3/envs/tvbadexgraph/lib/python3.10/site-packages/IPython/core/interactiveshell.py\u001b[0m in \u001b[0;36mrun_line_magic\u001b[0;34m(self, magic_name, line, _stack_depth)\u001b[0m\n\u001b[1;32m   2349\u001b[0m                 \u001b[0mkwargs\u001b[0m\u001b[0;34m[\u001b[0m\u001b[0;34m'local_ns'\u001b[0m\u001b[0;34m]\u001b[0m \u001b[0;34m=\u001b[0m \u001b[0mself\u001b[0m\u001b[0;34m.\u001b[0m\u001b[0mget_local_scope\u001b[0m\u001b[0;34m(\u001b[0m\u001b[0mstack_depth\u001b[0m\u001b[0;34m)\u001b[0m\u001b[0;34m\u001b[0m\u001b[0;34m\u001b[0m\u001b[0m\n\u001b[1;32m   2350\u001b[0m             \u001b[0;32mwith\u001b[0m \u001b[0mself\u001b[0m\u001b[0;34m.\u001b[0m\u001b[0mbuiltin_trap\u001b[0m\u001b[0;34m:\u001b[0m\u001b[0;34m\u001b[0m\u001b[0;34m\u001b[0m\u001b[0m\n\u001b[0;32m-> 2351\u001b[0;31m                 \u001b[0mresult\u001b[0m \u001b[0;34m=\u001b[0m \u001b[0mfn\u001b[0m\u001b[0;34m(\u001b[0m\u001b[0;34m*\u001b[0m\u001b[0margs\u001b[0m\u001b[0;34m,\u001b[0m \u001b[0;34m**\u001b[0m\u001b[0mkwargs\u001b[0m\u001b[0;34m)\u001b[0m\u001b[0;34m\u001b[0m\u001b[0;34m\u001b[0m\u001b[0m\n\u001b[0m\u001b[1;32m   2352\u001b[0m             \u001b[0;32mreturn\u001b[0m \u001b[0mresult\u001b[0m\u001b[0;34m\u001b[0m\u001b[0;34m\u001b[0m\u001b[0m\n\u001b[1;32m   2353\u001b[0m \u001b[0;34m\u001b[0m\u001b[0m\n",
      "\u001b[0;32m<decorator-gen-117>\u001b[0m in \u001b[0;36mlprun\u001b[0;34m(self, parameter_s)\u001b[0m\n",
      "\u001b[0;32m~/anaconda3/envs/tvbadexgraph/lib/python3.10/site-packages/IPython/core/magic.py\u001b[0m in \u001b[0;36m<lambda>\u001b[0;34m(f, *a, **k)\u001b[0m\n\u001b[1;32m    185\u001b[0m     \u001b[0;31m# but it's overkill for just that one bit of state.\u001b[0m\u001b[0;34m\u001b[0m\u001b[0;34m\u001b[0m\u001b[0m\n\u001b[1;32m    186\u001b[0m     \u001b[0;32mdef\u001b[0m \u001b[0mmagic_deco\u001b[0m\u001b[0;34m(\u001b[0m\u001b[0marg\u001b[0m\u001b[0;34m)\u001b[0m\u001b[0;34m:\u001b[0m\u001b[0;34m\u001b[0m\u001b[0;34m\u001b[0m\u001b[0m\n\u001b[0;32m--> 187\u001b[0;31m         \u001b[0mcall\u001b[0m \u001b[0;34m=\u001b[0m \u001b[0;32mlambda\u001b[0m \u001b[0mf\u001b[0m\u001b[0;34m,\u001b[0m \u001b[0;34m*\u001b[0m\u001b[0ma\u001b[0m\u001b[0;34m,\u001b[0m \u001b[0;34m**\u001b[0m\u001b[0mk\u001b[0m\u001b[0;34m:\u001b[0m \u001b[0mf\u001b[0m\u001b[0;34m(\u001b[0m\u001b[0;34m*\u001b[0m\u001b[0ma\u001b[0m\u001b[0;34m,\u001b[0m \u001b[0;34m**\u001b[0m\u001b[0mk\u001b[0m\u001b[0;34m)\u001b[0m\u001b[0;34m\u001b[0m\u001b[0;34m\u001b[0m\u001b[0m\n\u001b[0m\u001b[1;32m    188\u001b[0m \u001b[0;34m\u001b[0m\u001b[0m\n\u001b[1;32m    189\u001b[0m         \u001b[0;32mif\u001b[0m \u001b[0mcallable\u001b[0m\u001b[0;34m(\u001b[0m\u001b[0marg\u001b[0m\u001b[0;34m)\u001b[0m\u001b[0;34m:\u001b[0m\u001b[0;34m\u001b[0m\u001b[0;34m\u001b[0m\u001b[0m\n",
      "\u001b[0;32m~/anaconda3/envs/tvbadexgraph/lib/python3.10/site-packages/line_profiler/ipython_extension.py\u001b[0m in \u001b[0;36mlprun\u001b[0;34m(self, parameter_s)\u001b[0m\n\u001b[1;32m    102\u001b[0m         \u001b[0;32mtry\u001b[0m\u001b[0;34m:\u001b[0m\u001b[0;34m\u001b[0m\u001b[0;34m\u001b[0m\u001b[0m\n\u001b[1;32m    103\u001b[0m             \u001b[0;32mtry\u001b[0m\u001b[0;34m:\u001b[0m\u001b[0;34m\u001b[0m\u001b[0;34m\u001b[0m\u001b[0m\n\u001b[0;32m--> 104\u001b[0;31m                 \u001b[0mprofile\u001b[0m\u001b[0;34m.\u001b[0m\u001b[0mrunctx\u001b[0m\u001b[0;34m(\u001b[0m\u001b[0marg_str\u001b[0m\u001b[0;34m,\u001b[0m \u001b[0mglobal_ns\u001b[0m\u001b[0;34m,\u001b[0m \u001b[0mlocal_ns\u001b[0m\u001b[0;34m)\u001b[0m\u001b[0;34m\u001b[0m\u001b[0;34m\u001b[0m\u001b[0m\n\u001b[0m\u001b[1;32m    105\u001b[0m                 \u001b[0mmessage\u001b[0m \u001b[0;34m=\u001b[0m \u001b[0;34m\"\"\u001b[0m\u001b[0;34m\u001b[0m\u001b[0;34m\u001b[0m\u001b[0m\n\u001b[1;32m    106\u001b[0m             \u001b[0;32mexcept\u001b[0m \u001b[0mSystemExit\u001b[0m\u001b[0;34m:\u001b[0m\u001b[0;34m\u001b[0m\u001b[0;34m\u001b[0m\u001b[0m\n",
      "\u001b[0;32m~/anaconda3/envs/tvbadexgraph/lib/python3.10/site-packages/line_profiler/line_profiler.py\u001b[0m in \u001b[0;36mrunctx\u001b[0;34m(self, cmd, globals, locals)\u001b[0m\n\u001b[1;32m    140\u001b[0m         \u001b[0mself\u001b[0m\u001b[0;34m.\u001b[0m\u001b[0menable_by_count\u001b[0m\u001b[0;34m(\u001b[0m\u001b[0;34m)\u001b[0m\u001b[0;34m\u001b[0m\u001b[0;34m\u001b[0m\u001b[0m\n\u001b[1;32m    141\u001b[0m         \u001b[0;32mtry\u001b[0m\u001b[0;34m:\u001b[0m\u001b[0;34m\u001b[0m\u001b[0;34m\u001b[0m\u001b[0m\n\u001b[0;32m--> 142\u001b[0;31m             \u001b[0mexec\u001b[0m\u001b[0;34m(\u001b[0m\u001b[0mcmd\u001b[0m\u001b[0;34m,\u001b[0m \u001b[0mglobals\u001b[0m\u001b[0;34m,\u001b[0m \u001b[0mlocals\u001b[0m\u001b[0;34m)\u001b[0m\u001b[0;34m\u001b[0m\u001b[0;34m\u001b[0m\u001b[0m\n\u001b[0m\u001b[1;32m    143\u001b[0m         \u001b[0;32mfinally\u001b[0m\u001b[0;34m:\u001b[0m\u001b[0;34m\u001b[0m\u001b[0;34m\u001b[0m\u001b[0m\n\u001b[1;32m    144\u001b[0m             \u001b[0mself\u001b[0m\u001b[0;34m.\u001b[0m\u001b[0mdisable_by_count\u001b[0m\u001b[0;34m(\u001b[0m\u001b[0;34m)\u001b[0m\u001b[0;34m\u001b[0m\u001b[0;34m\u001b[0m\u001b[0m\n",
      "\u001b[0;32m<string>\u001b[0m in \u001b[0;36m<module>\u001b[0;34m\u001b[0m\n",
      "\u001b[0;32m/tmp/ipykernel_7913/1097530952.py\u001b[0m in \u001b[0;36mfunction_to_run\u001b[0;34m()\u001b[0m\n\u001b[1;32m     75\u001b[0m \u001b[0;34m\u001b[0m\u001b[0m\n\u001b[1;32m     76\u001b[0m                 sig_cut_analysis = sig_all_trials[:,:,\n\u001b[0;32m---> 77\u001b[0;31m                                 t_stim_bins - nbins_analysis:t_stim_bins + nbins_analysis]\n\u001b[0m\u001b[1;32m     78\u001b[0m                             \u001b[0;31m#%% binarisation\u001b[0m\u001b[0;34m\u001b[0m\u001b[0;34m\u001b[0m\u001b[0m\n\u001b[1;32m     79\u001b[0m                 sig_all_binary = tools.binarise_signals(sig_cut_analysis, int(t_analysis/times_l[0]), \n",
      "\u001b[0;31mNameError\u001b[0m: name 't_stim_bins' is not defined"
     ]
    }
   ],
   "source": [
    "%lprun -f function_to_run function_to_run()"
   ]
  },
  {
   "cell_type": "code",
   "execution_count": 25,
   "id": "b89a19d3",
   "metadata": {},
   "outputs": [
    {
     "data": {
      "text/plain": [
       "209.375"
      ]
     },
     "execution_count": 25,
     "metadata": {},
     "output_type": "execute_result"
    }
   ],
   "source": [
    "26800/128"
   ]
  },
  {
   "cell_type": "code",
   "execution_count": null,
   "id": "7264ca73",
   "metadata": {},
   "outputs": [],
   "source": []
  }
 ],
 "metadata": {
  "kernelspec": {
   "display_name": "Python 3 (ipykernel)",
   "language": "python",
   "name": "python3"
  },
  "language_info": {
   "codemirror_mode": {
    "name": "ipython",
    "version": 3
   },
   "file_extension": ".py",
   "mimetype": "text/x-python",
   "name": "python",
   "nbconvert_exporter": "python",
   "pygments_lexer": "ipython3",
   "version": "3.10.0"
  }
 },
 "nbformat": 4,
 "nbformat_minor": 5
}

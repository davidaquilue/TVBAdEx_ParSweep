{
 "cells": [
  {
   "cell_type": "markdown",
   "id": "ef134740",
   "metadata": {},
   "source": [
    "# Difference between the two parameter sweeps\n",
    "\n",
    "The idea now would be to subtract the information between the two parameter sweeps to see what are the inter-subject differences.\n"
   ]
  },
  {
   "cell_type": "code",
   "execution_count": 1,
   "id": "99e6db90",
   "metadata": {},
   "outputs": [],
   "source": [
    "import numpy as np\n",
    "import matplotlib.pyplot as plt\n",
    "\n",
    "from JUSUFlike.Project.Codes.processing_results import *"
   ]
  },
  {
   "cell_type": "code",
   "execution_count": 2,
   "id": "76a4ee08",
   "metadata": {},
   "outputs": [],
   "source": [
    "# Now I would like to load all the data, both enormous matrices and compare the results\n",
    "# Alternatively, can also load some metrics and use those to compare. It will be less demanding\n",
    "# on the computer\n",
    "\n",
    "metrics = ['delta_rel_p_e', 'theta_rel_p_e', 'alpha_rel_p_e', 'beta_rel_p_e', 'gamma_rel_p_e', \n",
    "          'fmax_amp_e', 'slope_PSD_e']\n",
    "\n",
    "batches_folder_new = './JUSUFlike/Project/FinalResultsNew/'\n",
    "batches_folder = './JUSUFlike/Project/FinalResults/'\n",
    "\n",
    "sweep_new = load_metric_sweeps(metrics, batches_folder_new)\n",
    "sweep_old = load_metric_sweeps(metrics, batches_folder)"
   ]
  },
  {
   "cell_type": "code",
   "execution_count": 11,
   "id": "9b8b7d40",
   "metadata": {},
   "outputs": [
    {
     "name": "stdout",
     "output_type": "stream",
     "text": [
      "0.0\n",
      "0.0\n",
      "0.0\n",
      "0.0\n",
      "0.0\n",
      "-6165.958744969542\n"
     ]
    }
   ],
   "source": [
    "diff = sweep_new - sweep_old\n",
    "for i in range(6):\n",
    "    print(np.sum(diff[:, i]))"
   ]
  },
  {
   "cell_type": "code",
   "execution_count": 14,
   "id": "656307fd",
   "metadata": {},
   "outputs": [],
   "source": [
    "# What we can do is re-index\n",
    "diff[:, :5] = sweep_new[:, :5]"
   ]
  },
  {
   "cell_type": "code",
   "execution_count": 15,
   "id": "3355b3bb",
   "metadata": {},
   "outputs": [
    {
     "ename": "TypeError",
     "evalue": "plot_metric_3d() got an unexpected keyword argument 'params_metric_array'",
     "output_type": "error",
     "traceback": [
      "\u001b[1;31m---------------------------------------------------------------------------\u001b[0m",
      "\u001b[1;31mTypeError\u001b[0m                                 Traceback (most recent call last)",
      "\u001b[1;32m~\\AppData\\Local\\Temp/ipykernel_18076/4137966238.py\u001b[0m in \u001b[0;36m<module>\u001b[1;34m\u001b[0m\n\u001b[0;32m      5\u001b[0m \u001b[1;31m# Let us try though\u001b[0m\u001b[1;33m\u001b[0m\u001b[1;33m\u001b[0m\u001b[1;33m\u001b[0m\u001b[0m\n\u001b[0;32m      6\u001b[0m \u001b[1;32mfor\u001b[0m \u001b[0mmetric\u001b[0m \u001b[1;32min\u001b[0m \u001b[0mmetrics\u001b[0m\u001b[1;33m:\u001b[0m\u001b[1;33m\u001b[0m\u001b[1;33m\u001b[0m\u001b[0m\n\u001b[1;32m----> 7\u001b[1;33m     fig = plot_metric_3d(metric, ('a', 'b_e', 'T'), {'E_L_i': ELI, 'E_L_e': ELE}, '', \n\u001b[0m\u001b[0;32m      8\u001b[0m                        steps=16, fig=None, ax=None, imshow_range=(0, 3), params_metric_array=diff)\n\u001b[0;32m      9\u001b[0m     \u001b[0mplt\u001b[0m\u001b[1;33m.\u001b[0m\u001b[0mshow\u001b[0m\u001b[1;33m(\u001b[0m\u001b[1;33m)\u001b[0m\u001b[1;33m\u001b[0m\u001b[1;33m\u001b[0m\u001b[0m\n",
      "\u001b[1;31mTypeError\u001b[0m: plot_metric_3d() got an unexpected keyword argument 'params_metric_array'"
     ]
    }
   ],
   "source": [
    "# So now that we have our diff, we just need to plot the 3D cubes to observe differences.\n",
    "# Will that work? Or unfortunately it is not that easy.\n",
    "ELI = -63\n",
    "ELE = -64\n",
    "# Let us try though\n",
    "for metric in metrics:\n",
    "    fig = plot_metric_3d(metric, ('a', 'b_e', 'T'), {'E_L_i': ELI, 'E_L_e': ELE}, '', \n",
    "                       steps=16, fig=None, ax=None, imshow_range=(0, 3), params_metric_array=diff)\n",
    "    plt.show()"
   ]
  }
 ],
 "metadata": {
  "kernelspec": {
   "display_name": "Python 3 (ipykernel)",
   "language": "python",
   "name": "python3"
  },
  "language_info": {
   "codemirror_mode": {
    "name": "ipython",
    "version": 3
   },
   "file_extension": ".py",
   "mimetype": "text/x-python",
   "name": "python",
   "nbconvert_exporter": "python",
   "pygments_lexer": "ipython3",
   "version": "3.8.10"
  }
 },
 "nbformat": 4,
 "nbformat_minor": 5
}

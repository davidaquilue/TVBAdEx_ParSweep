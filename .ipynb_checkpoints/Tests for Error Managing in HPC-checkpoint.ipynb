{
 "cells": [
  {
   "cell_type": "markdown",
   "id": "09ccf142",
   "metadata": {},
   "source": [
    "# Dividing the parameter space in different Jobs, each of them running H hours."
   ]
  },
  {
   "cell_type": "code",
   "execution_count": 5,
   "id": "5df567da",
   "metadata": {},
   "outputs": [
    {
     "name": "stdout",
     "output_type": "stream",
     "text": [
      "(1048576, 5)\n"
     ]
    }
   ],
   "source": [
    "import numpy as np\n",
    "import itertools\n",
    "\n",
    "steps = 16\n",
    "S_vals = np.round(np.linspace(0, 0.5, steps), 3)\n",
    "b_vals = np.round(np.linspace(0, 120, steps), 3)\n",
    "E_L_e_vals = np.round(np.linspace(-80, -60, steps), 3)\n",
    "E_L_i_vals = np.round(np.linspace(-80, -60, steps), 3)\n",
    "T_vals = np.round(np.linspace(5, 40, steps), 3)\n",
    "\n",
    "S_vals = list(S_vals)\n",
    "b_vals = list(b_vals)\n",
    "E_L_i_vals = list(E_L_i_vals)\n",
    "E_L_e_vals = list(E_L_e_vals)\n",
    "T_vals = list(T_vals)\n",
    "\n",
    "lst = [S_vals, b_vals, E_L_i_vals, E_L_e_vals, T_vals]\n",
    "\n",
    "combinaison = np.array(list(itertools.product(*lst)))\n",
    "\n",
    "print(combinaison.shape)"
   ]
  },
  {
   "cell_type": "code",
   "execution_count": 8,
   "id": "99ac0bff",
   "metadata": {},
   "outputs": [
    {
     "name": "stdout",
     "output_type": "stream",
     "text": [
      "47663\n",
      "47663\n",
      "47663\n",
      "47663\n",
      "47663\n",
      "47663\n",
      "47663\n",
      "47663\n",
      "47663\n",
      "47663\n",
      "47663\n",
      "47663\n",
      "47662\n",
      "47662\n",
      "47662\n",
      "47662\n",
      "47662\n",
      "47662\n",
      "47662\n",
      "47662\n",
      "47662\n",
      "47662\n",
      "22\n"
     ]
    }
   ],
   "source": [
    "# Let's divide it into different jobs\n",
    "comb_div = np.array_split(combinaison, 22)\n",
    "\n",
    "folder_chunks = './JUSUFlike/Data/Data/chunks_parsweep/'\n",
    "for chunk_id, chunk in enumerate(comb_div):\n",
    "    #print(chunk.shape)\n",
    "    file_name = folder_chunks + 'chunk_' + str(chunk_id) + '.npy'\n",
    "    np.save(file_name, chunk)\n",
    "    combination = np.load(file_name).tolist()\n",
    "    print(len(combination))\n",
    "    \n",
    "print(len(comb_div))"
   ]
  },
  {
   "cell_type": "code",
   "execution_count": 62,
   "id": "0bfcc17c",
   "metadata": {},
   "outputs": [
    {
     "name": "stdout",
     "output_type": "stream",
     "text": [
      "(47662, 5)\n",
      "[  0.5   120.    -74.667 -74.667  23.667]\n"
     ]
    }
   ],
   "source": [
    "chunk = np.load(file_name)\n",
    "print(chunk.shape)\n",
    "print(chunk[-3000])"
   ]
  },
  {
   "cell_type": "markdown",
   "id": "bce84571",
   "metadata": {},
   "source": [
    "#### Chunks of parameter space have been divided and seem to be working. Now how to manage all of them manually and correctly will have to be done with caution"
   ]
  },
  {
   "cell_type": "markdown",
   "id": "babc81cf",
   "metadata": {},
   "source": [
    "# How to manage files in order to account for errors in simulations and everything"
   ]
  },
  {
   "cell_type": "markdown",
   "id": "a67868eb",
   "metadata": {},
   "source": [
    "## Comparing lengths of results and completed file folders to see if there is a need to scan them all"
   ]
  },
  {
   "cell_type": "code",
   "execution_count": 35,
   "id": "0dfe6547",
   "metadata": {},
   "outputs": [],
   "source": [
    "# Difference in time between len of long list and add iterator\n",
    "steps = 10000000"
   ]
  },
  {
   "cell_type": "code",
   "execution_count": 36,
   "id": "9c0a1599",
   "metadata": {},
   "outputs": [
    {
     "name": "stdout",
     "output_type": "stream",
     "text": [
      "234 ms ± 1.58 ms per loop (mean ± std. dev. of 7 runs, 10 loops each)\n"
     ]
    }
   ],
   "source": [
    "%%timeit\n",
    "list_1 = [*range(steps)]\n",
    "len_list = len(list_1)"
   ]
  },
  {
   "cell_type": "code",
   "execution_count": 37,
   "id": "e1b52136",
   "metadata": {},
   "outputs": [
    {
     "name": "stdout",
     "output_type": "stream",
     "text": [
      "349 ms ± 3.17 ms per loop (mean ± std. dev. of 7 runs, 1 loop each)\n"
     ]
    }
   ],
   "source": [
    "%%timeit\n",
    "len_list = 0\n",
    "\n",
    "for i in range(steps):\n",
    "    len_list += 1"
   ]
  },
  {
   "cell_type": "markdown",
   "id": "9bf2a10c",
   "metadata": {},
   "source": [
    "**There's little difference and I am not worried about time of computation but RAM. Since each element of the list will be a long string with numbers and letters, it will probably take a considerable amount of RAM. I prefer a method that might be sligthly slower but that  for sure won't give us memory problems.**"
   ]
  },
  {
   "cell_type": "markdown",
   "id": "c23fd466",
   "metadata": {},
   "source": [
    "## Comparing the time needed to save a long .npy vector (the one with the metrics) vs the time to save an almost empty one saying COMPLETED vs a .txt file\n"
   ]
  },
  {
   "cell_type": "code",
   "execution_count": 39,
   "id": "5ce8f261",
   "metadata": {},
   "outputs": [],
   "source": [
    "file_folder = './test_files/'"
   ]
  },
  {
   "cell_type": "code",
   "execution_count": 41,
   "id": "7f295b01",
   "metadata": {},
   "outputs": [],
   "source": [
    "vec1 = np.random.rand(55)\n",
    "vec2 = np.array([])"
   ]
  },
  {
   "cell_type": "code",
   "execution_count": 42,
   "id": "be22d323",
   "metadata": {},
   "outputs": [
    {
     "name": "stdout",
     "output_type": "stream",
     "text": [
      "87.1 µs ± 857 ns per loop (mean ± std. dev. of 7 runs, 10000 loops each)\n"
     ]
    }
   ],
   "source": [
    "%%timeit\n",
    "np.save(file_folder + 'long.npy', vec1)"
   ]
  },
  {
   "cell_type": "code",
   "execution_count": 43,
   "id": "709a7550",
   "metadata": {},
   "outputs": [
    {
     "name": "stdout",
     "output_type": "stream",
     "text": [
      "83.8 µs ± 1.2 µs per loop (mean ± std. dev. of 7 runs, 10000 loops each)\n"
     ]
    }
   ],
   "source": [
    "%%timeit\n",
    "np.save(file_folder + 'COMPLETED.npy', vec2)"
   ]
  },
  {
   "cell_type": "code",
   "execution_count": 44,
   "id": "0cf15584",
   "metadata": {},
   "outputs": [
    {
     "name": "stdout",
     "output_type": "stream",
     "text": [
      "9.17 µs ± 620 ns per loop (mean ± std. dev. of 7 runs, 100000 loops each)\n"
     ]
    }
   ],
   "source": [
    "%%timeit\n",
    "open(file_folder + 'COMPLETED.txt', 'a').close()"
   ]
  },
  {
   "cell_type": "markdown",
   "id": "78849256",
   "metadata": {},
   "source": [
    "Now that we know what we need to do, I will delete the folder. If this is to be re-run, create the folder again.\n",
    "**In this case, it is evident that the empty .txt folder is superior. It weighs 0 bytes and it is created ~10 times faster than the other alternatives, making it way less possible to have errors. For this reason we will use this one as the completed indicator.**\n",
    "\n",
    "### I will now modify the HPC_sim.py script with this indicator. It will need to have an indicator folder created in the same folder as the results."
   ]
  },
  {
   "cell_type": "markdown",
   "id": "9fb31414",
   "metadata": {},
   "source": [
    "## Comparing time taken in different types of indexing"
   ]
  },
  {
   "cell_type": "code",
   "execution_count": 55,
   "id": "21cc017b",
   "metadata": {},
   "outputs": [],
   "source": [
    "S_vals = np.round(np.linspace(0, 0.5, steps), 3)\n",
    "b_vals = np.round(np.linspace(0, 120, steps), 3)\n",
    "E_L_e_vals = np.round(np.linspace(-80, -60, steps), 3)\n",
    "E_L_i_vals = np.round(np.linspace(-80, -60, steps), 3)\n",
    "T_vals = np.round(np.linspace(5, 40, steps), 3)\n",
    "\n",
    "# Choose random values"
   ]
  },
  {
   "cell_type": "code",
   "execution_count": 90,
   "id": "f40b8efd",
   "metadata": {},
   "outputs": [
    {
     "name": "stdout",
     "output_type": "stream",
     "text": [
      "15.4 ms ± 387 µs per loop (mean ± std. dev. of 7 runs, 10 loops each)\n"
     ]
    }
   ],
   "source": [
    "%%timeit\n",
    "random_choices = [np.random.choice(S_vals), np.random.choice(b_vals), np.random.choice(E_L_i_vals),\n",
    "                  np.random.choice(E_L_e_vals), np.random.choice(T_vals)]\n",
    "S_idx = combinaison[:, 0] == random_choices[0]\n",
    "b_idx = combinaison[:, 1] == random_choices[1]\n",
    "E_L_i_idx = combinaison[:, 2] == random_choices[2]\n",
    "E_L_e_idx = combinaison[:, 3] == random_choices[3]\n",
    "T_idx = combinaison[:, 4] == random_choices[4]\n",
    "all_idx =  np.logical_and.reduce((S_idx, b_idx, E_L_i_idx, E_L_e_idx, T_idx))"
   ]
  },
  {
   "cell_type": "code",
   "execution_count": 84,
   "id": "86b663d0",
   "metadata": {},
   "outputs": [
    {
     "name": "stdout",
     "output_type": "stream",
     "text": [
      "True\n",
      "True\n",
      "True\n",
      "True\n",
      "True\n"
     ]
    }
   ],
   "source": [
    "# Let's make sure that what we obtain is correct\n",
    "for ii, val in enumerate(random_choices):\n",
    "    print(val==combinaison[all_idx, :][0][ii])"
   ]
  },
  {
   "cell_type": "code",
   "execution_count": 91,
   "id": "b9ee8fba",
   "metadata": {},
   "outputs": [
    {
     "data": {
      "text/plain": [
       "11.91575"
      ]
     },
     "execution_count": 91,
     "metadata": {},
     "output_type": "execute_result"
    }
   ],
   "source": [
    "# Looks like it. How much time would it take to sweep over all the elements in a chunk if done sequentially\n",
    "15e-3*47663/60\n",
    "\n",
    "# 12 minutes is quite a significant time. I think this process could also be parallelized but I don't know\n",
    "# if it's worth it to do it rn."
   ]
  },
  {
   "cell_type": "code",
   "execution_count": 115,
   "id": "47e31c1d",
   "metadata": {},
   "outputs": [
    {
     "name": "stdout",
     "output_type": "stream",
     "text": [
      "(1048576,)\n",
      "0\n",
      "(1048576,)\n",
      "0\n",
      "(1048576,)\n",
      "0\n",
      "(1048576,)\n",
      "0\n",
      "(1048576,)\n",
      "0\n",
      "(1048576,)\n",
      "0\n",
      "(1048576,)\n",
      "0\n",
      "(1048576,)\n",
      "0\n",
      "(1048576,)\n",
      "0\n",
      "(1048576,)\n",
      "0\n",
      "(1048576,)\n",
      "0\n",
      "(1048576,)\n",
      "0\n",
      "(1048576,)\n",
      "0\n",
      "(1048576,)\n",
      "0\n",
      "(1048576,)\n",
      "0\n",
      "(1048576,)\n",
      "0\n",
      "(1048576,)\n",
      "0\n",
      "(1048576,)\n",
      "0\n",
      "(1048576,)\n",
      "0\n",
      "(1048576,)\n",
      "0\n",
      "(1048576,)\n",
      "0\n",
      "(1048576,)\n",
      "0\n",
      "(1048576,)\n",
      "0\n",
      "(1048576,)\n",
      "0\n",
      "(1048576,)\n",
      "0\n",
      "(1048576,)\n",
      "0\n",
      "(1048576,)\n",
      "0\n",
      "(1048576,)\n",
      "0\n",
      "(1048576,)\n",
      "0\n",
      "(1048576,)\n",
      "0\n",
      "(1048576,)\n",
      "0\n",
      "(1048576,)\n",
      "0\n"
     ]
    }
   ],
   "source": [
    "# How does scandir() work\n",
    "import os\n",
    "\n",
    "results_folder = '/home/master/Desktop/tests_hpc/JUSUFlike/Scratch/results/'\n",
    "\n",
    "for file in os.scandir(results_folder):\n",
    "    #print(type(file.name)) file.name is the string name of the file\n",
    "    #print(file.name.split('_'))  # Returns a list with separated elements by '_'\n",
    "    split_str = file.name.split('_')\n",
    "    a = float(split_str[2])\n",
    "    b = float(split_str[4])\n",
    "    E_L_i = float(split_str[6])\n",
    "    E_L_e = float(split_str[8])\n",
    "    T = float(split_str[10][:-4])  # .npy is not separated.\n",
    "    #print(a, b, E_L_i, E_L_e, T)\n",
    "\n",
    "    S_idx = combinaison[:, 0] == a\n",
    "    b_idx = combinaison[:, 1] == b\n",
    "    E_L_i_idx = combinaison[:, 2] == E_L_i    \n",
    "    E_L_e_idx = combinaison[:, 3] == E_L_e\n",
    "    T_idx = combinaison[:, 4] == T - 1 \n",
    "    all_idx =  np.logical_and.reduce((S_idx, b_idx, E_L_i_idx, E_L_e_idx, T_idx))\n",
    "    print(all_idx.shape)\n",
    "    print(np.sum(all_idx))"
   ]
  },
  {
   "cell_type": "code",
   "execution_count": 117,
   "id": "6cb822ba",
   "metadata": {},
   "outputs": [
    {
     "name": "stdout",
     "output_type": "stream",
     "text": [
      "<class 'str'>\n",
      "0\n",
      "<class 'str'>\n",
      "12\n",
      "<class 'str'>\n",
      "6\n",
      "<class 'str'>\n",
      "7\n",
      "<class 'str'>\n",
      "4\n",
      "<class 'str'>\n",
      "18\n",
      "<class 'str'>\n",
      "16\n",
      "<class 'str'>\n",
      "3\n",
      "<class 'str'>\n",
      "10\n",
      "<class 'str'>\n",
      "20\n",
      "<class 'str'>\n",
      "8\n",
      "<class 'str'>\n",
      "1\n",
      "<class 'str'>\n",
      "5\n",
      "<class 'str'>\n",
      "15\n",
      "<class 'str'>\n",
      "9\n",
      "<class 'str'>\n",
      "21\n",
      "<class 'str'>\n",
      "11\n",
      "<class 'str'>\n",
      "13\n",
      "<class 'str'>\n",
      "19\n",
      "<class 'str'>\n",
      "14\n",
      "<class 'str'>\n",
      "17\n",
      "<class 'str'>\n",
      "2\n"
     ]
    }
   ],
   "source": [
    "results_folder = '/home/master/Desktop/tests_hpc/JUSUFlike/Data/Data/chunks_parsweep/'\n",
    "\n",
    "for file in os.scandir(results_folder):\n",
    "    #print(type(file.name)) file.name is the string name of the file\n",
    "    chunk_n = int(file.name.split('_')[-1][:-4])\n",
    "    print(chunk_n)"
   ]
  },
  {
   "cell_type": "code",
   "execution_count": null,
   "id": "9bc67635",
   "metadata": {},
   "outputs": [],
   "source": []
  }
 ],
 "metadata": {
  "kernelspec": {
   "display_name": "Python 3 (ipykernel)",
   "language": "python",
   "name": "python3"
  },
  "language_info": {
   "codemirror_mode": {
    "name": "ipython",
    "version": 3
   },
   "file_extension": ".py",
   "mimetype": "text/x-python",
   "name": "python",
   "nbconvert_exporter": "python",
   "pygments_lexer": "ipython3",
   "version": "3.10.0"
  }
 },
 "nbformat": 4,
 "nbformat_minor": 5
}
